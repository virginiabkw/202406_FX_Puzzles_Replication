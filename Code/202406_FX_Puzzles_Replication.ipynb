{
 "cells": [
  {
   "cell_type": "markdown",
   "id": "7307288a-dcfd-42f8-9bc6-89093dd81611",
   "metadata": {},
   "source": [
    "# Exchange rate puzzles - data update"
   ]
  },
  {
   "cell_type": "markdown",
   "id": "663389f5-f0e8-45cf-84cf-6775aa057a3f",
   "metadata": {},
   "source": [
    "### Backus-Smith Puzzle"
   ]
  },
  {
   "cell_type": "code",
   "execution_count": 8,
   "id": "94ef8947-702c-41b6-859d-c6498312480f",
   "metadata": {},
   "outputs": [
    {
     "name": "stdout",
     "output_type": "stream",
     "text": [
      "Requirement already satisfied: pandas in /opt/anaconda3/lib/python3.11/site-packages (2.1.4)\n",
      "Requirement already satisfied: openpyxl in /opt/anaconda3/lib/python3.11/site-packages (3.0.10)\n",
      "Requirement already satisfied: numpy<2,>=1.23.2 in /opt/anaconda3/lib/python3.11/site-packages (from pandas) (1.26.4)\n",
      "Requirement already satisfied: python-dateutil>=2.8.2 in /opt/anaconda3/lib/python3.11/site-packages (from pandas) (2.8.2)\n",
      "Requirement already satisfied: pytz>=2020.1 in /opt/anaconda3/lib/python3.11/site-packages (from pandas) (2023.3.post1)\n",
      "Requirement already satisfied: tzdata>=2022.1 in /opt/anaconda3/lib/python3.11/site-packages (from pandas) (2023.3)\n",
      "Requirement already satisfied: et_xmlfile in /opt/anaconda3/lib/python3.11/site-packages (from openpyxl) (1.1.0)\n",
      "Requirement already satisfied: six>=1.5 in /opt/anaconda3/lib/python3.11/site-packages (from python-dateutil>=2.8.2->pandas) (1.16.0)\n"
     ]
    }
   ],
   "source": [
    "!pip install pandas openpyxl\n",
    "import pandas as pd"
   ]
  },
  {
   "cell_type": "code",
   "execution_count": 26,
   "id": "1e58b7e6-e4f6-4cf4-9125-e94ec4822b20",
   "metadata": {},
   "outputs": [
    {
     "data": {
      "text/plain": [
       "'/Users/virginiaballesteroskisielewska/Documents/MPhil Economics - Y1/RA /Code/202606_FX_Puzzles'"
      ]
     },
     "execution_count": 26,
     "metadata": {},
     "output_type": "execute_result"
    }
   ],
   "source": [
    "import os\n",
    "os.getcwd()"
   ]
  },
  {
   "cell_type": "code",
   "execution_count": 44,
   "id": "6b77647f-bc3f-486a-af77-242af7796e6e",
   "metadata": {},
   "outputs": [
    {
     "data": {
      "text/html": [
       "<div>\n",
       "<style scoped>\n",
       "    .dataframe tbody tr th:only-of-type {\n",
       "        vertical-align: middle;\n",
       "    }\n",
       "\n",
       "    .dataframe tbody tr th {\n",
       "        vertical-align: top;\n",
       "    }\n",
       "\n",
       "    .dataframe thead th {\n",
       "        text-align: right;\n",
       "    }\n",
       "</style>\n",
       "<table border=\"1\" class=\"dataframe\">\n",
       "  <thead>\n",
       "    <tr style=\"text-align: right;\">\n",
       "      <th></th>\n",
       "      <th>FRED Graph Observations</th>\n",
       "      <th>Unnamed: 1</th>\n",
       "    </tr>\n",
       "  </thead>\n",
       "  <tbody>\n",
       "    <tr>\n",
       "      <th>0</th>\n",
       "      <td>Federal Reserve Economic Data</td>\n",
       "      <td>NaN</td>\n",
       "    </tr>\n",
       "    <tr>\n",
       "      <th>1</th>\n",
       "      <td>Link: https://fred.stlouisfed.org</td>\n",
       "      <td>NaN</td>\n",
       "    </tr>\n",
       "    <tr>\n",
       "      <th>2</th>\n",
       "      <td>Help: https://fredhelp.stlouisfed.org</td>\n",
       "      <td>NaN</td>\n",
       "    </tr>\n",
       "    <tr>\n",
       "      <th>3</th>\n",
       "      <td>Economic Research Division</td>\n",
       "      <td>NaN</td>\n",
       "    </tr>\n",
       "    <tr>\n",
       "      <th>4</th>\n",
       "      <td>Federal Reserve Bank of St. Louis</td>\n",
       "      <td>NaN</td>\n",
       "    </tr>\n",
       "  </tbody>\n",
       "</table>\n",
       "</div>"
      ],
      "text/plain": [
       "                 FRED Graph Observations Unnamed: 1\n",
       "0          Federal Reserve Economic Data        NaN\n",
       "1      Link: https://fred.stlouisfed.org        NaN\n",
       "2  Help: https://fredhelp.stlouisfed.org        NaN\n",
       "3             Economic Research Division        NaN\n",
       "4      Federal Reserve Bank of St. Louis        NaN"
      ]
     },
     "execution_count": 44,
     "metadata": {},
     "output_type": "execute_result"
    }
   ],
   "source": [
    "NER_USEUR = pd.read_excel('FRED_NominalFX_USDforEUR.xlsx')\n",
    "NER_USEUR.head()"
   ]
  },
  {
   "cell_type": "code",
   "execution_count": 46,
   "id": "e059a9f1-c022-4c10-9866-fcc4b0670bc3",
   "metadata": {},
   "outputs": [],
   "source": [
    "file_path = '/Users/virginiaballesteroskisielewska/Documents/MPhil Economics - Y1/RA /Code/202606_FX_Puzzles/FRED_NominalFX_USDforEUR.xlsx'\n",
    "df = pd.read_excel(file_path)"
   ]
  }
 ],
 "metadata": {
  "kernelspec": {
   "display_name": "Python 3 (ipykernel)",
   "language": "python",
   "name": "python3"
  },
  "language_info": {
   "codemirror_mode": {
    "name": "ipython",
    "version": 3
   },
   "file_extension": ".py",
   "mimetype": "text/x-python",
   "name": "python",
   "nbconvert_exporter": "python",
   "pygments_lexer": "ipython3",
   "version": "3.11.7"
  }
 },
 "nbformat": 4,
 "nbformat_minor": 5
}
